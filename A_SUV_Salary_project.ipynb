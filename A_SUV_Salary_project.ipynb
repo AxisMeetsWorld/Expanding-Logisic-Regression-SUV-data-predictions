{
 "cells": [
  {
   "cell_type": "markdown",
   "metadata": {},
   "source": [
    "<font color='purple'>__Here we are trying to make sure how to really split categorical data with logistic regression the way it is explained in the link below. Note that there are some data splitting techniques along the way to learn.__<font> <br/>\n",
    "    https://www.analyticsvidhya.com/blog/2021/08/conceptual-understanding-of-logistic-regression-for-data-science-beginners/ Also, trying to compare against this predictor: <br/>\n",
    "    https://towardsdatascience.com/a-beginners-guide-to-data-analysis-machine-learning-with-python-adult-salary-dataset-e5fc028b6f0a"
   ]
  },
  {
   "cell_type": "code",
   "execution_count": 2,
   "metadata": {},
   "outputs": [],
   "source": [
    "import pandas as pd\n",
    "import numpy as np\n",
    "from sklearn.model_selection import train_test_split\n",
    "from sklearn.linear_model import LogisticRegression\n",
    "from sklearn import metrics\n",
    "from sklearn.ensemble import RandomForestRegressor\n",
    "from sklearn import preprocessing as pp\n",
    "import matplotlib.pyplot as plt\n",
    "import seaborn as sbn\n"
   ]
  },
  {
   "cell_type": "markdown",
   "metadata": {},
   "source": [
    "<font color='purple'>__Download the two datasets. First for simple regression, and the second for dividing up your classes__<font>"
   ]
  },
  {
   "cell_type": "code",
   "execution_count": 14,
   "metadata": {},
   "outputs": [
    {
     "data": {
      "text/html": [
       "<div>\n",
       "<style scoped>\n",
       "    .dataframe tbody tr th:only-of-type {\n",
       "        vertical-align: middle;\n",
       "    }\n",
       "\n",
       "    .dataframe tbody tr th {\n",
       "        vertical-align: top;\n",
       "    }\n",
       "\n",
       "    .dataframe thead th {\n",
       "        text-align: right;\n",
       "    }\n",
       "</style>\n",
       "<table border=\"1\" class=\"dataframe\">\n",
       "  <thead>\n",
       "    <tr style=\"text-align: right;\">\n",
       "      <th></th>\n",
       "      <th>User ID</th>\n",
       "      <th>Gender</th>\n",
       "      <th>Age</th>\n",
       "      <th>EstimatedSalary</th>\n",
       "      <th>Purchased</th>\n",
       "    </tr>\n",
       "  </thead>\n",
       "  <tbody>\n",
       "    <tr>\n",
       "      <th>0</th>\n",
       "      <td>15624510</td>\n",
       "      <td>Male</td>\n",
       "      <td>19</td>\n",
       "      <td>19000</td>\n",
       "      <td>0</td>\n",
       "    </tr>\n",
       "    <tr>\n",
       "      <th>1</th>\n",
       "      <td>15810944</td>\n",
       "      <td>Male</td>\n",
       "      <td>35</td>\n",
       "      <td>20000</td>\n",
       "      <td>0</td>\n",
       "    </tr>\n",
       "    <tr>\n",
       "      <th>2</th>\n",
       "      <td>15668575</td>\n",
       "      <td>Female</td>\n",
       "      <td>26</td>\n",
       "      <td>43000</td>\n",
       "      <td>0</td>\n",
       "    </tr>\n",
       "    <tr>\n",
       "      <th>3</th>\n",
       "      <td>15603246</td>\n",
       "      <td>Female</td>\n",
       "      <td>27</td>\n",
       "      <td>57000</td>\n",
       "      <td>0</td>\n",
       "    </tr>\n",
       "    <tr>\n",
       "      <th>4</th>\n",
       "      <td>15804002</td>\n",
       "      <td>Male</td>\n",
       "      <td>19</td>\n",
       "      <td>76000</td>\n",
       "      <td>0</td>\n",
       "    </tr>\n",
       "    <tr>\n",
       "      <th>5</th>\n",
       "      <td>15728773</td>\n",
       "      <td>Male</td>\n",
       "      <td>27</td>\n",
       "      <td>58000</td>\n",
       "      <td>0</td>\n",
       "    </tr>\n",
       "    <tr>\n",
       "      <th>6</th>\n",
       "      <td>15598044</td>\n",
       "      <td>Female</td>\n",
       "      <td>27</td>\n",
       "      <td>84000</td>\n",
       "      <td>0</td>\n",
       "    </tr>\n",
       "    <tr>\n",
       "      <th>7</th>\n",
       "      <td>15694829</td>\n",
       "      <td>Female</td>\n",
       "      <td>32</td>\n",
       "      <td>150000</td>\n",
       "      <td>1</td>\n",
       "    </tr>\n",
       "    <tr>\n",
       "      <th>8</th>\n",
       "      <td>15600575</td>\n",
       "      <td>Male</td>\n",
       "      <td>25</td>\n",
       "      <td>33000</td>\n",
       "      <td>0</td>\n",
       "    </tr>\n",
       "    <tr>\n",
       "      <th>9</th>\n",
       "      <td>15727311</td>\n",
       "      <td>Female</td>\n",
       "      <td>35</td>\n",
       "      <td>65000</td>\n",
       "      <td>0</td>\n",
       "    </tr>\n",
       "  </tbody>\n",
       "</table>\n",
       "</div>"
      ],
      "text/plain": [
       "    User ID  Gender  Age  EstimatedSalary  Purchased\n",
       "0  15624510    Male   19            19000          0\n",
       "1  15810944    Male   35            20000          0\n",
       "2  15668575  Female   26            43000          0\n",
       "3  15603246  Female   27            57000          0\n",
       "4  15804002    Male   19            76000          0\n",
       "5  15728773    Male   27            58000          0\n",
       "6  15598044  Female   27            84000          0\n",
       "7  15694829  Female   32           150000          1\n",
       "8  15600575    Male   25            33000          0\n",
       "9  15727311  Female   35            65000          0"
      ]
     },
     "execution_count": 14,
     "metadata": {},
     "output_type": "execute_result"
    }
   ],
   "source": [
    "path= \"Datasets/\"\n",
    "#path1 = \"Datasets/Income_Class/\"\n",
    "SuvData= pd.read_csv(path + 'suv_data.csv')\n",
    "#IncData=pd.read_csv(path1 + 'income_evaluation.csv' )\n",
    "#SuvData.info()\n",
    "#IncData.info()\n",
    "\n",
    "\n",
    "#Looking at the data, what we need to do is replace the \"object\" columns with integer based; same process for IncData\n",
    "i=0\n",
    "gend = SuvData['Gender']\n",
    "for c in SuvData.columns:\n",
    "    if SuvData[c].dtypes == 'object':\n",
    "        #Be sure to cover Nulls (even though we know we don't have any here)\n",
    "        SuvData[c].fillna(\"not provided\", inplace=True)\n",
    "        SuvData[c]=SuvData[c].astype('str')\n",
    "        LE=pp.LabelEncoder()\n",
    "        values = pd.array(SuvData[c])\n",
    "        encoded = LE.fit_transform(values)\n",
    "        encoded=pd.Series(encoded)\n",
    "        SuvData.insert(i,c+'_int',encoded)\n",
    "        del SuvData[c]\n",
    "        i = i+1\n",
    "    else:\n",
    "        i = i+1\n",
    "\n",
    "gend_num= SuvData['Gender_int']\n",
    "SuvData.head(5)"
   ]
  },
  {
   "cell_type": "markdown",
   "metadata": {},
   "source": [
    "<font color='purple'>__Note the use of the numpy \"logical_and\" as you can learn more below__<font> <br/>\n",
    "    https://numpy.org/doc/stable/reference/generated/numpy.logical_and.html <br/>\n",
    "    There is also the conditions and the values that are typically good if you are going to create a new conditional column for your dataframe as we did here with the Gender_purchase_evenIsPurchased. *Note we named this with the evenIsPurchased because we needed to Note the even numbers meaning successful sale. Lastly note that we had the Gender_int which was a 1 for males and 0 for females.*"
   ]
  },
  {
   "cell_type": "code",
   "execution_count": 4,
   "metadata": {},
   "outputs": [
    {
     "data": {
      "text/html": [
       "<div>\n",
       "<style scoped>\n",
       "    .dataframe tbody tr th:only-of-type {\n",
       "        vertical-align: middle;\n",
       "    }\n",
       "\n",
       "    .dataframe tbody tr th {\n",
       "        vertical-align: top;\n",
       "    }\n",
       "\n",
       "    .dataframe thead th {\n",
       "        text-align: right;\n",
       "    }\n",
       "</style>\n",
       "<table border=\"1\" class=\"dataframe\">\n",
       "  <thead>\n",
       "    <tr style=\"text-align: right;\">\n",
       "      <th></th>\n",
       "      <th>User ID</th>\n",
       "      <th>Gender_int</th>\n",
       "      <th>Age</th>\n",
       "      <th>EstimatedSalary</th>\n",
       "      <th>Purchased</th>\n",
       "      <th>Gender_purchase_evenIsPurchased</th>\n",
       "    </tr>\n",
       "  </thead>\n",
       "  <tbody>\n",
       "    <tr>\n",
       "      <th>0</th>\n",
       "      <td>15624510</td>\n",
       "      <td>1</td>\n",
       "      <td>19</td>\n",
       "      <td>19000</td>\n",
       "      <td>0</td>\n",
       "      <td>1</td>\n",
       "    </tr>\n",
       "    <tr>\n",
       "      <th>1</th>\n",
       "      <td>15810944</td>\n",
       "      <td>1</td>\n",
       "      <td>35</td>\n",
       "      <td>20000</td>\n",
       "      <td>0</td>\n",
       "      <td>1</td>\n",
       "    </tr>\n",
       "    <tr>\n",
       "      <th>2</th>\n",
       "      <td>15668575</td>\n",
       "      <td>0</td>\n",
       "      <td>26</td>\n",
       "      <td>43000</td>\n",
       "      <td>0</td>\n",
       "      <td>3</td>\n",
       "    </tr>\n",
       "    <tr>\n",
       "      <th>3</th>\n",
       "      <td>15603246</td>\n",
       "      <td>0</td>\n",
       "      <td>27</td>\n",
       "      <td>57000</td>\n",
       "      <td>0</td>\n",
       "      <td>3</td>\n",
       "    </tr>\n",
       "    <tr>\n",
       "      <th>4</th>\n",
       "      <td>15804002</td>\n",
       "      <td>1</td>\n",
       "      <td>19</td>\n",
       "      <td>76000</td>\n",
       "      <td>0</td>\n",
       "      <td>1</td>\n",
       "    </tr>\n",
       "    <tr>\n",
       "      <th>5</th>\n",
       "      <td>15728773</td>\n",
       "      <td>1</td>\n",
       "      <td>27</td>\n",
       "      <td>58000</td>\n",
       "      <td>0</td>\n",
       "      <td>1</td>\n",
       "    </tr>\n",
       "    <tr>\n",
       "      <th>6</th>\n",
       "      <td>15598044</td>\n",
       "      <td>0</td>\n",
       "      <td>27</td>\n",
       "      <td>84000</td>\n",
       "      <td>0</td>\n",
       "      <td>3</td>\n",
       "    </tr>\n",
       "    <tr>\n",
       "      <th>7</th>\n",
       "      <td>15694829</td>\n",
       "      <td>0</td>\n",
       "      <td>32</td>\n",
       "      <td>150000</td>\n",
       "      <td>1</td>\n",
       "      <td>2</td>\n",
       "    </tr>\n",
       "    <tr>\n",
       "      <th>8</th>\n",
       "      <td>15600575</td>\n",
       "      <td>1</td>\n",
       "      <td>25</td>\n",
       "      <td>33000</td>\n",
       "      <td>0</td>\n",
       "      <td>1</td>\n",
       "    </tr>\n",
       "    <tr>\n",
       "      <th>9</th>\n",
       "      <td>15727311</td>\n",
       "      <td>0</td>\n",
       "      <td>35</td>\n",
       "      <td>65000</td>\n",
       "      <td>0</td>\n",
       "      <td>3</td>\n",
       "    </tr>\n",
       "  </tbody>\n",
       "</table>\n",
       "</div>"
      ],
      "text/plain": [
       "    User ID  Gender_int  Age  EstimatedSalary  Purchased  \\\n",
       "0  15624510           1   19            19000          0   \n",
       "1  15810944           1   35            20000          0   \n",
       "2  15668575           0   26            43000          0   \n",
       "3  15603246           0   27            57000          0   \n",
       "4  15804002           1   19            76000          0   \n",
       "5  15728773           1   27            58000          0   \n",
       "6  15598044           0   27            84000          0   \n",
       "7  15694829           0   32           150000          1   \n",
       "8  15600575           1   25            33000          0   \n",
       "9  15727311           0   35            65000          0   \n",
       "\n",
       "   Gender_purchase_evenIsPurchased  \n",
       "0                                1  \n",
       "1                                1  \n",
       "2                                3  \n",
       "3                                3  \n",
       "4                                1  \n",
       "5                                1  \n",
       "6                                3  \n",
       "7                                2  \n",
       "8                                1  \n",
       "9                                3  "
      ]
     },
     "execution_count": 4,
     "metadata": {},
     "output_type": "execute_result"
    }
   ],
   "source": [
    "conditions=[np.logical_and(SuvData['Gender_int'] == 1, SuvData['Purchased'] == 1),\n",
    "            np.logical_and(SuvData['Gender_int'] == 1, SuvData['Purchased'] == 0),\n",
    "            np.logical_and(SuvData['Gender_int'] == 0, SuvData['Purchased'] == 1),\n",
    "            np.logical_and(SuvData['Gender_int'] == 0, SuvData['Purchased'] == 0)\n",
    "           ]\n",
    "values = [0,1,2,3]\n",
    "SuvData['Gender_purchase_evenIsPurchased']= np.select(conditions, values)\n",
    "SuvData.head(10)"
   ]
  },
  {
   "cell_type": "markdown",
   "metadata": {},
   "source": [
    "<font color='purple'>__First let's work with the first dataset and copy what was done in the link here:<font> <br/>\n",
    "    https://medium.com/analytics-vidhya/suv-purchase-prediction-using-logistic-regression-ca79bae6f3d5"
   ]
  },
  {
   "cell_type": "code",
   "execution_count": 5,
   "metadata": {},
   "outputs": [
    {
     "name": "stderr",
     "output_type": "stream",
     "text": [
      "C:\\Users\\djloq\\anaconda3\\lib\\site-packages\\sklearn\\utils\\validation.py:73: DataConversionWarning: A column-vector y was passed when a 1d array was expected. Please change the shape of y to (n_samples, ), for example using ravel().\n",
      "  return f(**kwargs)\n"
     ]
    },
    {
     "name": "stdout",
     "output_type": "stream",
     "text": [
      "Acuracy: 91.25%\n"
     ]
    },
    {
     "data": {
      "text/plain": [
       "<matplotlib.axes._subplots.AxesSubplot at 0x2467cd95130>"
      ]
     },
     "execution_count": 5,
     "metadata": {},
     "output_type": "execute_result"
    },
    {
     "data": {
      "image/png": "[encoded data removed]",
      "text/plain": [
       "<Figure size 432x288 with 2 Axes>"
      ]
     },
     "metadata": {
      "needs_background": "light"
     },
     "output_type": "display_data"
    }
   ],
   "source": [
    "#Note this will show you don't have null values: SuvData.isnull().sum()\n",
    "#Now, we are going to try seeing if we include more columns what might happen; note the use of iloc and []\n",
    "#the inside [] seem to be imparative in setting up the new lists.\n",
    "X= SuvData.iloc[:,[1,2,3]].values\n",
    "Y= SuvData.iloc[:,[4]].values\n",
    "Z= SuvData.iloc[:,[5]].values\n",
    "\n",
    "# apparently as seen here, we need to ensure the x_shape, and y_shape have the same values\n",
    "# https://datascience.stackexchange.com/questions/20199/train-test-split-error-found-input-variables-with-inconsistent-numbers-of-sam\n",
    "#If you see X.shape, and Y,shape not showing some line up of dimenssions, you might have to use numpy.reshape()\n",
    "\n",
    "X_train, X_test, Y_train, Y_test =train_test_split(X,Y,test_size = 0.20, random_state=0)\n",
    "#The following preprocessing is added to the algorythm in order to divide out the standard deviation from each point.\n",
    "#This is done because we have too much variance in the salary so that it ranges from 0 to 1.\n",
    "prep_scaled = pp.StandardScaler()\n",
    "X_train=prep_scaled.fit_transform(X_train)\n",
    "X_test=prep_scaled.transform(X_test)\n",
    "\n",
    "#Now the logistic regression implementation\n",
    "LogReg = LogisticRegression(random_state=0)\n",
    "LogReg.fit(X_train, Y_train)\n",
    "\n",
    "#Test this out and show the accuracy score\n",
    "Y_predict=LogReg.predict(X_test)\n",
    "#Y_predict\n",
    "\n",
    "\n",
    "#Y_test\n",
    "\n",
    "accuracy = metrics.accuracy_score(Y_test,Y_predict)*100\n",
    "print(\"Acuracy: \" + str(accuracy)+ \"%\")\n",
    "Y_mat=metrics.confusion_matrix(Y_test,Y_predict)\n",
    "sbn.heatmap(Y_mat,annot=True, cmap='RdYlGn')"
   ]
  },
  {
   "cell_type": "markdown",
   "metadata": {},
   "source": [
    "<font color='purple'>__Now let's try to run the same functions on the Z variable__<font>"
   ]
  },
  {
   "cell_type": "code",
   "execution_count": 8,
   "metadata": {},
   "outputs": [
    {
     "name": "stdout",
     "output_type": "stream",
     "text": [
      "Acuracy: 91.25\n"
     ]
    },
    {
     "name": "stderr",
     "output_type": "stream",
     "text": [
      "C:\\Users\\djloq\\anaconda3\\lib\\site-packages\\sklearn\\utils\\validation.py:73: DataConversionWarning: A column-vector y was passed when a 1d array was expected. Please change the shape of y to (n_samples, ), for example using ravel().\n",
      "  return f(**kwargs)\n"
     ]
    },
    {
     "data": {
      "text/plain": [
       "<matplotlib.axes._subplots.AxesSubplot at 0x24602e620a0>"
      ]
     },
     "execution_count": 8,
     "metadata": {},
     "output_type": "execute_result"
    },
    {
     "data": {
      "image/png": "[encoded data removed]",
      "text/plain": [
       "<Figure size 432x288 with 2 Axes>"
      ]
     },
     "metadata": {
      "needs_background": "light"
     },
     "output_type": "display_data"
    }
   ],
   "source": [
    "X_train, X_test, Z_train, Z_test =train_test_split(X,Z,test_size = 0.20, random_state=0)\n",
    "\n",
    "prep_scaled_Z = pp.StandardScaler()\n",
    "X_train=prep_scaled_Z.fit_transform(X_train)\n",
    "X_test=prep_scaled_Z.transform(X_test)\n",
    "\n",
    "LogReg_Z = LogisticRegression(random_state=0)\n",
    "LogReg_Z.fit(X_train, Z_train)\n",
    "\n",
    "Z_predict=LogReg_Z.predict(X_test)\n",
    "\n",
    "accuracy = metrics.accuracy_score(Z_test,Z_predict)*100\n",
    "print(\"Acuracy: \" + str(accuracy))\n",
    "\n",
    "#Now let's plot this one and convert the confusion to a dataframe for readability:\n",
    "Z_mat=metrics.confusion_matrix(Z_test,Z_predict)\n",
    "Z_dfmat=pd.DataFrame(Z_mat)\n",
    "Z_dfmat.columns = ['Men Purch Pred', 'Men Walk Pred', 'Women Purch Pred', 'Women Walk Pred']\n",
    "Z_dfmat.index = ['Men Purchased', 'Men Walk-away', 'Women Purchased', 'Women Walk-away']\n",
    "#Right now, we are trying to show the percentage of each category that was accurately predicted. \n",
    "#However, \n",
    "Mat_sum=Z_mat.sum()\n",
    "Mat_sum\n",
    "#Z_dfmat = Z_dfmat.astype('float')/Mat_sum\n",
    "sbn.heatmap(Z_dfmat,annot=True, cmap='RdYlGn',annot_kws={'size':14})\n"
   ]
  },
  {
   "cell_type": "markdown",
   "metadata": {},
   "source": [
    "<font color='purple'>__Now let's try to break the confusion matricies down into the sub categorical pairs__<font> <br/>\n",
    "    You can somewhat see the process here: https://blog.paperspace.com/deep-learning-metrics-precision-recall-accuracy/  \n",
    "    further, there is a guide to setting this up: https://stackoverflow.com/questions/62722416/plot-confusion-matrix-for-multilabel-classifcation-python"
   ]
  },
  {
   "cell_type": "code",
   "execution_count": 12,
   "metadata": {},
   "outputs": [
    {
     "data": {
      "text/plain": [
       "array([[[68,  1],\n",
       "        [ 5,  6]],\n",
       "\n",
       "       [[46,  5],\n",
       "        [ 1, 28]],\n",
       "\n",
       "       [[68,  1],\n",
       "        [ 0, 11]],\n",
       "\n",
       "       [[51,  0],\n",
       "        [ 1, 28]]], dtype=int64)"
      ]
     },
     "execution_count": 12,
     "metadata": {},
     "output_type": "execute_result"
    },
    {
     "data": {
      "image/png": "[encoded data removed]",
      "text/plain": [
       "<Figure size 720x576 with 4 Axes>"
      ]
     },
     "metadata": {
      "needs_background": "light"
     },
     "output_type": "display_data"
    }
   ],
   "source": [
    "Mult_mat = metrics.multilabel_confusion_matrix(Z_test,Z_predict, labels=[0,1,2,3])\n",
    "#now you want to create a label set based on the set. Note that join here seems to be a concatenation.\n",
    "labels = [\"\".join(\"pair \" + Z_dfmat.index[i]) for i in range(0,4)]\n",
    "\n",
    "#Note this process could help you plot out the errors you will see in many confusion matricies\n",
    "def print_confusion_matrix(conf_mat, axes, class_label, class_names, fontsize = 13):\n",
    "    df_cm = pd.DataFrame(conf_mat, index=class_names, columns = class_names)\n",
    "    heatmap = sbn.heatmap(df_cm, annot = True, cmap='RdYlGn', cbar =False, annot_kws={'size':20}, ax=axes)\n",
    "    heatmap.yaxis.set_ticklabels(heatmap.yaxis.get_ticklabels(), rotation=-45,  ha='right',fontsize = fontsize)\n",
    "    heatmap.xaxis.set_ticklabels(heatmap.xaxis.get_ticklabels(), rotation=45,  ha='right',fontsize = fontsize)\n",
    "    axes.set_ylabel(\"Actual\")\n",
    "    axes.set_xlabel(\"Predicted\")\n",
    "    axes.set_title(\"Confusion matrix for the class - \" + class_label)\n",
    "    \n",
    "#Now see the defined setting of axis, titles, heatmaps, and ticklabels in the right order. Note the zip() sort of groups a \n",
    "#series of values that might be in separate arrays and bunches them one by one. Flatten() just breaks n-dimensions into one\n",
    "#flat dimension vector\n",
    "fig, ax = plt.subplots(2,2,figsize = (10,8))\n",
    "    \n",
    "#Now, you need to just look closer at the labels and see if we can't come up with something better than \"Y\" & \"N\"\n",
    "for axes, cfs_matrix, label,field in zip(ax.flatten(), Mult_mat, labels, Z_dfmat.index):\n",
    "    print_confusion_matrix(cfs_matrix,axes,label,[\"Other\",field])\n",
    "    \n",
    "    plt.subplots_adjust(top=2.75,bottom=0.25,right = 2.25, left = 0.5)\n",
    "    #plt.show()\n",
    "Mult_mat\n"
   ]
  }
 ],
 "metadata": {
  "kernelspec": {
   "display_name": "Python 3",
   "language": "python",
   "name": "python3"
  },
  "language_info": {
   "codemirror_mode": {
    "name": "ipython",
    "version": 3
   },
   "file_extension": ".py",
   "mimetype": "text/x-python",
   "name": "python",
   "nbconvert_exporter": "python",
   "pygments_lexer": "ipython3",
   "version": "3.8.3"
  }
 },
 "nbformat": 4,
 "nbformat_minor": 4
}
